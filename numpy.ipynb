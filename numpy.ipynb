{
  "nbformat": 4,
  "nbformat_minor": 0,
  "metadata": {
    "colab": {
      "provenance": [],
      "authorship_tag": "ABX9TyO1WAW/CXIy5bok8iseuHRa",
      "include_colab_link": true
    },
    "kernelspec": {
      "name": "python3",
      "display_name": "Python 3"
    },
    "language_info": {
      "name": "python"
    }
  },
  "cells": [
    {
      "cell_type": "markdown",
      "metadata": {
        "id": "view-in-github",
        "colab_type": "text"
      },
      "source": [
        "<a href=\"https://colab.research.google.com/github/Siddhant5139/sid5139/blob/main/numpy.ipynb\" target=\"_parent\"><img src=\"https://colab.research.google.com/assets/colab-badge.svg\" alt=\"Open In Colab\"/></a>"
      ]
    },
    {
      "cell_type": "markdown",
      "source": [
        "[link text](https://)[\n",
        "](https://)![image.png](\n",
        "  \n",
        ")"
      ],
      "metadata": {
        "id": "x18gXxFFPBNE"
      }
    },
    {
      "cell_type": "markdown",
      "source": [
        "<h2>numpy</h2>"
      ],
      "metadata": {
        "id": "QiO8KbLDOia2"
      }
    },
    {
      "cell_type": "code",
      "execution_count": 1,
      "metadata": {
        "id": "fU9pzwjwOJGl"
      },
      "outputs": [],
      "source": [
        "import numpy as np # faster then list"
      ]
    },
    {
      "cell_type": "code",
      "source": [
        "a = np.array((1,2,3,4))     #def numpy(input,type)"
      ],
      "metadata": {
        "id": "aMnJwDpQTfIK"
      },
      "execution_count": 2,
      "outputs": []
    },
    {
      "cell_type": "code",
      "source": [
        "type(a)"
      ],
      "metadata": {
        "colab": {
          "base_uri": "https://localhost:8080/"
        },
        "id": "SQ7g79TsTppY",
        "outputId": "b83f8ba3-dcde-43c6-b259-fe0dc9760dc9"
      },
      "execution_count": 3,
      "outputs": [
        {
          "output_type": "execute_result",
          "data": {
            "text/plain": [
              "numpy.ndarray"
            ]
          },
          "metadata": {},
          "execution_count": 3
        }
      ]
    },
    {
      "cell_type": "code",
      "source": [
        "np.arange(0,10,2)    #(start,end,steps)"
      ],
      "metadata": {
        "colab": {
          "base_uri": "https://localhost:8080/"
        },
        "id": "s3mxBnowUgJH",
        "outputId": "8efee811-d66c-4998-c7a9-cfedaa573b07"
      },
      "execution_count": 4,
      "outputs": [
        {
          "output_type": "execute_result",
          "data": {
            "text/plain": [
              "array([0, 2, 4, 6, 8])"
            ]
          },
          "metadata": {},
          "execution_count": 4
        }
      ]
    },
    {
      "cell_type": "code",
      "source": [
        "np.random.randint(0,10,4)"
      ],
      "metadata": {
        "colab": {
          "base_uri": "https://localhost:8080/"
        },
        "id": "AGFCTD3LU1Hm",
        "outputId": "7c9acc10-6c24-4642-ddad-0544d58c0e83"
      },
      "execution_count": 5,
      "outputs": [
        {
          "output_type": "execute_result",
          "data": {
            "text/plain": [
              "array([1, 7, 0, 8])"
            ]
          },
          "metadata": {},
          "execution_count": 5
        }
      ]
    },
    {
      "cell_type": "code",
      "source": [
        "np.random.rand(2,3,4)   #(number,row,col)"
      ],
      "metadata": {
        "colab": {
          "base_uri": "https://localhost:8080/"
        },
        "id": "0ae9g2SBVJIK",
        "outputId": "d4793557-9d27-4a7e-ae92-f2abd02b2854"
      },
      "execution_count": 6,
      "outputs": [
        {
          "output_type": "execute_result",
          "data": {
            "text/plain": [
              "array([[[0.28826722, 0.12038074, 0.39734993, 0.19873552],\n",
              "        [0.85903898, 0.19868546, 0.59269551, 0.60796629],\n",
              "        [0.02770502, 0.54625533, 0.00835993, 0.33782991]],\n",
              "\n",
              "       [[0.65245534, 0.07322625, 0.21138196, 0.20771627],\n",
              "        [0.55607404, 0.87359586, 0.06455986, 0.88971099],\n",
              "        [0.02594375, 0.20325372, 0.69026883, 0.45596902]]])"
            ]
          },
          "metadata": {},
          "execution_count": 6
        }
      ]
    },
    {
      "cell_type": "code",
      "source": [
        "#random game where you toask user to guess the correct number guess wrng tell add or sub number\n",
        "a = int(input(\"enter number between 0 to 10:-\"))\n",
        "b = np.random.randint(0,10)\n",
        "if (a == b):\n",
        "  print(\"you guess it write\")\n",
        "else:\n",
        "  print(\"you guess it wrong\")\n",
        "  if(a>b):\n",
        "    x = a-b\n",
        "    print(\"subtract \",x,\"and you get your no\")\n",
        "  else:\n",
        "    n= b-a\n",
        "    print(\"add\",n,\"and you get your no\")"
      ],
      "metadata": {
        "colab": {
          "base_uri": "https://localhost:8080/"
        },
        "id": "hU4Yro-0Vli4",
        "outputId": "783708ec-be3f-4e0d-ffc8-82aff16d15b6"
      },
      "execution_count": 7,
      "outputs": [
        {
          "output_type": "stream",
          "name": "stdout",
          "text": [
            "enter number between 0 to 10:-3\n",
            "you guess it wrong\n",
            "subtract  3 and you get your no\n"
          ]
        }
      ]
    },
    {
      "cell_type": "code",
      "source": [
        "import numpy as np"
      ],
      "metadata": {
        "id": "am-MK7dxLSAs"
      },
      "execution_count": 8,
      "outputs": []
    },
    {
      "cell_type": "code",
      "source": [
        "a=np.ones((7,5),dtype=int)"
      ],
      "metadata": {
        "id": "NY-PMBfELzM1"
      },
      "execution_count": 15,
      "outputs": []
    },
    {
      "cell_type": "code",
      "source": [
        "np.zeros((3,4))"
      ],
      "metadata": {
        "colab": {
          "base_uri": "https://localhost:8080/"
        },
        "id": "6dSk0ADbMW76",
        "outputId": "b7747272-0683-47f4-c795-73d44a28814e"
      },
      "execution_count": 17,
      "outputs": [
        {
          "output_type": "execute_result",
          "data": {
            "text/plain": [
              "array([[0., 0., 0., 0.],\n",
              "       [0., 0., 0., 0.],\n",
              "       [0., 0., 0., 0.]])"
            ]
          },
          "metadata": {},
          "execution_count": 17
        }
      ]
    },
    {
      "cell_type": "code",
      "source": [
        "import matplotlib.pyplot as plt\n",
        "plt.imshow(a)"
      ],
      "metadata": {
        "colab": {
          "base_uri": "https://localhost:8080/",
          "height": 447
        },
        "id": "epUJFw2QNNTC",
        "outputId": "98b11fb4-2149-4c4f-c7b9-17c274f63e83"
      },
      "execution_count": 19,
      "outputs": [
        {
          "output_type": "execute_result",
          "data": {
            "text/plain": [
              "<matplotlib.image.AxesImage at 0x7f2388075010>"
            ]
          },
          "metadata": {},
          "execution_count": 19
        },
        {
          "output_type": "display_data",
          "data": {
            "text/plain": [
              "<Figure size 640x480 with 1 Axes>"
            ],
            "image/png": "[encoded data removed]"
          },
          "metadata": {}
        }
      ]
    },
    {
      "cell_type": "code",
      "source": [
        "a.ndim"
      ],
      "metadata": {
        "colab": {
          "base_uri": "https://localhost:8080/"
        },
        "id": "r5hhJ1UJMcnh",
        "outputId": "b9847bec-07f3-4d2b-ad21-86914e6e1fd1"
      },
      "execution_count": 18,
      "outputs": [
        {
          "output_type": "execute_result",
          "data": {
            "text/plain": [
              "2"
            ]
          },
          "metadata": {},
          "execution_count": 18
        }
      ]
    },
    {
      "cell_type": "code",
      "source": [
        "#uesd to create black and white image\n",
        "a=np.array([[0,1,7,1,],[1,0,1,8.9]])"
      ],
      "metadata": {
        "id": "NIRZLrnJNExJ"
      },
      "execution_count": 36,
      "outputs": []
    },
    {
      "cell_type": "code",
      "source": [
        "plt.imshow(a)"
      ],
      "metadata": {
        "colab": {
          "base_uri": "https://localhost:8080/",
          "height": 331
        },
        "id": "yYW7oyFeNvtL",
        "outputId": "d063e6fd-8984-41fc-c8ee-8988ac53125b"
      },
      "execution_count": 37,
      "outputs": [
        {
          "output_type": "execute_result",
          "data": {
            "text/plain": [
              "<matplotlib.image.AxesImage at 0x7f235f75d6d0>"
            ]
          },
          "metadata": {},
          "execution_count": 37
        },
        {
          "output_type": "display_data",
          "data": {
            "text/plain": [
              "<Figure size 640x480 with 1 Axes>"
            ],
            "image/png": "[encoded data removed]"
          },
          "metadata": {}
        }
      ]
    },
    {
      "cell_type": "code",
      "source": [
        "a.shape"
      ],
      "metadata": {
        "colab": {
          "base_uri": "https://localhost:8080/"
        },
        "id": "m0KsrnuoO2_H",
        "outputId": "efdad643-4b24-411c-b719-d385881a631a"
      },
      "execution_count": 38,
      "outputs": [
        {
          "output_type": "execute_result",
          "data": {
            "text/plain": [
              "(2, 4)"
            ]
          },
          "metadata": {},
          "execution_count": 38
        }
      ]
    },
    {
      "cell_type": "code",
      "source": [
        "arr = np.random.randint(0,10,24)"
      ],
      "metadata": {
        "id": "9IuO1CjhPHek"
      },
      "execution_count": 43,
      "outputs": []
    },
    {
      "cell_type": "code",
      "source": [
        "arr.shape"
      ],
      "metadata": {
        "colab": {
          "base_uri": "https://localhost:8080/"
        },
        "id": "EJE-jnNFPeRY",
        "outputId": "ad324075-e778-4e0a-b668-ed73846121db"
      },
      "execution_count": 44,
      "outputs": [
        {
          "output_type": "execute_result",
          "data": {
            "text/plain": [
              "(24,)"
            ]
          },
          "metadata": {},
          "execution_count": 44
        }
      ]
    },
    {
      "cell_type": "code",
      "source": [
        "arr.reshape(2,12)"
      ],
      "metadata": {
        "colab": {
          "base_uri": "https://localhost:8080/"
        },
        "id": "cr5YRvKtPlqM",
        "outputId": "b54d95be-d1bd-4cd2-e49a-f7b0ba3f805b"
      },
      "execution_count": 45,
      "outputs": [
        {
          "output_type": "execute_result",
          "data": {
            "text/plain": [
              "array([[2, 4, 5, 5, 8, 5, 8, 8, 5, 4, 9, 0],\n",
              "       [8, 8, 9, 0, 3, 8, 5, 9, 3, 6, 9, 9]])"
            ]
          },
          "metadata": {},
          "execution_count": 45
        }
      ]
    },
    {
      "cell_type": "code",
      "source": [
        "arr.reshape(3,8)"
      ],
      "metadata": {
        "colab": {
          "base_uri": "https://localhost:8080/"
        },
        "id": "nFAjvnvqQABh",
        "outputId": "61812084-2ec4-42b8-ea48-1241525210fc"
      },
      "execution_count": 47,
      "outputs": [
        {
          "output_type": "execute_result",
          "data": {
            "text/plain": [
              "array([[2, 4, 5, 5, 8, 5, 8, 8],\n",
              "       [5, 4, 9, 0, 8, 8, 9, 0],\n",
              "       [3, 8, 5, 9, 3, 6, 9, 9]])"
            ]
          },
          "metadata": {},
          "execution_count": 47
        }
      ]
    },
    {
      "cell_type": "code",
      "source": [
        "arr.ravel()"
      ],
      "metadata": {
        "colab": {
          "base_uri": "https://localhost:8080/"
        },
        "id": "vC-Hip7zQSZq",
        "outputId": "9c392423-907c-4b12-8599-3ebc2dc34bfc"
      },
      "execution_count": 48,
      "outputs": [
        {
          "output_type": "execute_result",
          "data": {
            "text/plain": [
              "array([2, 4, 5, 5, 8, 5, 8, 8, 5, 4, 9, 0, 8, 8, 9, 0, 3, 8, 5, 9, 3, 6,\n",
              "       9, 9])"
            ]
          },
          "metadata": {},
          "execution_count": 48
        }
      ]
    },
    {
      "cell_type": "code",
      "source": [
        "arr+1"
      ],
      "metadata": {
        "colab": {
          "base_uri": "https://localhost:8080/"
        },
        "id": "6fW4J41lRFvP",
        "outputId": "41c9b7eb-7e5e-47c7-986b-08cde0235e2a"
      },
      "execution_count": 49,
      "outputs": [
        {
          "output_type": "execute_result",
          "data": {
            "text/plain": [
              "array([ 3,  5,  6,  6,  9,  6,  9,  9,  6,  5, 10,  1,  9,  9, 10,  1,  4,\n",
              "        9,  6, 10,  4,  7, 10, 10])"
            ]
          },
          "metadata": {},
          "execution_count": 49
        }
      ]
    },
    {
      "cell_type": "code",
      "source": [
        "arr.argmin()   # give index no of minimum no"
      ],
      "metadata": {
        "colab": {
          "base_uri": "https://localhost:8080/"
        },
        "id": "WNm4LRf9RSTP",
        "outputId": "e9e8d3c5-61db-4873-90a2-5ae1ed1dd2d0"
      },
      "execution_count": 51,
      "outputs": [
        {
          "output_type": "execute_result",
          "data": {
            "text/plain": [
              "np.int64(11)"
            ]
          },
          "metadata": {},
          "execution_count": 51
        }
      ]
    },
    {
      "cell_type": "code",
      "source": [
        "arr.min()  # give minimum no"
      ],
      "metadata": {
        "colab": {
          "base_uri": "https://localhost:8080/"
        },
        "id": "47vzU3GYRm8A",
        "outputId": "2a379fe0-2fd0-48b1-a31d-4d9ac37e3080"
      },
      "execution_count": 52,
      "outputs": [
        {
          "output_type": "execute_result",
          "data": {
            "text/plain": [
              "np.int64(0)"
            ]
          },
          "metadata": {},
          "execution_count": 52
        }
      ]
    },
    {
      "cell_type": "code",
      "source": [
        "arr.max()"
      ],
      "metadata": {
        "colab": {
          "base_uri": "https://localhost:8080/"
        },
        "id": "nLkaXSKRRsoP",
        "outputId": "a5374618-356f-4d62-b10d-2c5ec0cce159"
      },
      "execution_count": 53,
      "outputs": [
        {
          "output_type": "execute_result",
          "data": {
            "text/plain": [
              "np.int64(9)"
            ]
          },
          "metadata": {},
          "execution_count": 53
        }
      ]
    },
    {
      "cell_type": "code",
      "source": [
        "arr.mean()"
      ],
      "metadata": {
        "colab": {
          "base_uri": "https://localhost:8080/"
        },
        "id": "Dhjg6OpXRxnJ",
        "outputId": "93e0418b-1679-42ea-fb2e-c7934557b816"
      },
      "execution_count": 54,
      "outputs": [
        {
          "output_type": "execute_result",
          "data": {
            "text/plain": [
              "np.float64(5.833333333333333)"
            ]
          },
          "metadata": {},
          "execution_count": 54
        }
      ]
    },
    {
      "cell_type": "code",
      "source": [
        "np.sort(arr)   #accendind order"
      ],
      "metadata": {
        "colab": {
          "base_uri": "https://localhost:8080/"
        },
        "id": "87ERP-XpSRx-",
        "outputId": "373c1d3b-9c0f-4b46-aa70-585d570cff35"
      },
      "execution_count": 57,
      "outputs": [
        {
          "output_type": "execute_result",
          "data": {
            "text/plain": [
              "array([0, 0, 2, 3, 3, 4, 4, 5, 5, 5, 5, 5, 6, 8, 8, 8, 8, 8, 8, 9, 9, 9,\n",
              "       9, 9])"
            ]
          },
          "metadata": {},
          "execution_count": 57
        }
      ]
    },
    {
      "cell_type": "code",
      "source": [
        "np.median(arr)"
      ],
      "metadata": {
        "colab": {
          "base_uri": "https://localhost:8080/"
        },
        "id": "o9O8ThYFSgKl",
        "outputId": "926252c5-8f99-4d1d-e114-7b8f9becf686"
      },
      "execution_count": 59,
      "outputs": [
        {
          "output_type": "execute_result",
          "data": {
            "text/plain": [
              "np.float64(5.5)"
            ]
          },
          "metadata": {},
          "execution_count": 59
        }
      ]
    },
    {
      "cell_type": "code",
      "source": [],
      "metadata": {
        "id": "QHV2DWl3TA24"
      },
      "execution_count": null,
      "outputs": []
    }
  ]
}